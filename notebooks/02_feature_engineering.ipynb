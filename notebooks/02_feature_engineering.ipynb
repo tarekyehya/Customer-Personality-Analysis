{
 "cells": [
  {
   "cell_type": "markdown",
   "metadata": {},
   "source": [
    "# Feature engineering plan:\n",
    " - Education and Marital_Status features\n",
    " - Detecting and handling outliers:\n",
    "    - transformations\n",
    "    - The next step depends on the task.\n",
    " - adding new features."
   ]
  },
  {
   "cell_type": "code",
   "execution_count": 55,
   "metadata": {},
   "outputs": [],
   "source": [
    "# constant\n",
    "RAW_DATA_CLEANED = \"../data/preprocessed/cleaned/marketing_campaign.csv\" \n",
    "Export_DATA_ENGINEERING = \"../data/preprocessed/engineering/marketing_campaign.csv\" "
   ]
  },
  {
   "cell_type": "code",
   "execution_count": 56,
   "metadata": {},
   "outputs": [],
   "source": [
    "import pandas as pd\n",
    "import numpy as np \n",
    "from scipy import stats\n",
    "import matplotlib.pyplot as plt\n",
    "\n",
    "\n",
    "from sklearn.ensemble import IsolationForest\n",
    "from sklearn.neighbors import LocalOutlierFactor\n",
    "from sklearn.cluster import DBSCAN\n",
    "from sklearn.neighbors import NearestNeighbors\n",
    "from sklearn.preprocessing import FunctionTransformer, RobustScaler, StandardScaler\n",
    "from sklearn.compose import ColumnTransformer\n",
    "from sklearn.pipeline import Pipeline\n",
    "\n",
    "\n",
    "\n",
    "from sklearn.preprocessing import StandardScaler, MinMaxScaler\n",
    "\n",
    "\n",
    "# set the max columns to none\n",
    "pd.set_option('display.max_columns', None)"
   ]
  },
  {
   "cell_type": "code",
   "execution_count": 57,
   "metadata": {},
   "outputs": [
    {
     "data": {
      "text/html": [
       "<div>\n",
       "<style scoped>\n",
       "    .dataframe tbody tr th:only-of-type {\n",
       "        vertical-align: middle;\n",
       "    }\n",
       "\n",
       "    .dataframe tbody tr th {\n",
       "        vertical-align: top;\n",
       "    }\n",
       "\n",
       "    .dataframe thead th {\n",
       "        text-align: right;\n",
       "    }\n",
       "</style>\n",
       "<table border=\"1\" class=\"dataframe\">\n",
       "  <thead>\n",
       "    <tr style=\"text-align: right;\">\n",
       "      <th></th>\n",
       "      <th>Year_Birth</th>\n",
       "      <th>Education</th>\n",
       "      <th>Marital_Status</th>\n",
       "      <th>Income</th>\n",
       "      <th>Kidhome</th>\n",
       "      <th>Teenhome</th>\n",
       "      <th>Dt_Customer</th>\n",
       "      <th>Recency</th>\n",
       "      <th>MntWines</th>\n",
       "      <th>MntFruits</th>\n",
       "      <th>MntMeatProducts</th>\n",
       "      <th>MntFishProducts</th>\n",
       "      <th>MntSweetProducts</th>\n",
       "      <th>MntGoldProds</th>\n",
       "      <th>NumDealsPurchases</th>\n",
       "      <th>NumWebPurchases</th>\n",
       "      <th>NumCatalogPurchases</th>\n",
       "      <th>NumStorePurchases</th>\n",
       "      <th>NumWebVisitsMonth</th>\n",
       "      <th>AcceptedCmp3</th>\n",
       "      <th>AcceptedCmp4</th>\n",
       "      <th>AcceptedCmp5</th>\n",
       "      <th>AcceptedCmp1</th>\n",
       "      <th>AcceptedCmp2</th>\n",
       "      <th>Complain</th>\n",
       "      <th>Response</th>\n",
       "    </tr>\n",
       "  </thead>\n",
       "  <tbody>\n",
       "    <tr>\n",
       "      <th>0</th>\n",
       "      <td>1957</td>\n",
       "      <td>Graduation</td>\n",
       "      <td>Single</td>\n",
       "      <td>58138.0</td>\n",
       "      <td>0</td>\n",
       "      <td>0</td>\n",
       "      <td>2012-09-04</td>\n",
       "      <td>58</td>\n",
       "      <td>635</td>\n",
       "      <td>88</td>\n",
       "      <td>546</td>\n",
       "      <td>172</td>\n",
       "      <td>88</td>\n",
       "      <td>88</td>\n",
       "      <td>3</td>\n",
       "      <td>8</td>\n",
       "      <td>10</td>\n",
       "      <td>4</td>\n",
       "      <td>7</td>\n",
       "      <td>0</td>\n",
       "      <td>0</td>\n",
       "      <td>0</td>\n",
       "      <td>0</td>\n",
       "      <td>0</td>\n",
       "      <td>0</td>\n",
       "      <td>1</td>\n",
       "    </tr>\n",
       "    <tr>\n",
       "      <th>1</th>\n",
       "      <td>1954</td>\n",
       "      <td>Graduation</td>\n",
       "      <td>Single</td>\n",
       "      <td>46344.0</td>\n",
       "      <td>1</td>\n",
       "      <td>1</td>\n",
       "      <td>2014-03-08</td>\n",
       "      <td>38</td>\n",
       "      <td>11</td>\n",
       "      <td>1</td>\n",
       "      <td>6</td>\n",
       "      <td>2</td>\n",
       "      <td>1</td>\n",
       "      <td>6</td>\n",
       "      <td>2</td>\n",
       "      <td>1</td>\n",
       "      <td>1</td>\n",
       "      <td>2</td>\n",
       "      <td>5</td>\n",
       "      <td>0</td>\n",
       "      <td>0</td>\n",
       "      <td>0</td>\n",
       "      <td>0</td>\n",
       "      <td>0</td>\n",
       "      <td>0</td>\n",
       "      <td>0</td>\n",
       "    </tr>\n",
       "    <tr>\n",
       "      <th>2</th>\n",
       "      <td>1965</td>\n",
       "      <td>Graduation</td>\n",
       "      <td>Together</td>\n",
       "      <td>71613.0</td>\n",
       "      <td>0</td>\n",
       "      <td>0</td>\n",
       "      <td>2013-08-21</td>\n",
       "      <td>26</td>\n",
       "      <td>426</td>\n",
       "      <td>49</td>\n",
       "      <td>127</td>\n",
       "      <td>111</td>\n",
       "      <td>21</td>\n",
       "      <td>42</td>\n",
       "      <td>1</td>\n",
       "      <td>8</td>\n",
       "      <td>2</td>\n",
       "      <td>10</td>\n",
       "      <td>4</td>\n",
       "      <td>0</td>\n",
       "      <td>0</td>\n",
       "      <td>0</td>\n",
       "      <td>0</td>\n",
       "      <td>0</td>\n",
       "      <td>0</td>\n",
       "      <td>0</td>\n",
       "    </tr>\n",
       "    <tr>\n",
       "      <th>3</th>\n",
       "      <td>1984</td>\n",
       "      <td>Graduation</td>\n",
       "      <td>Together</td>\n",
       "      <td>26646.0</td>\n",
       "      <td>1</td>\n",
       "      <td>0</td>\n",
       "      <td>2014-02-10</td>\n",
       "      <td>26</td>\n",
       "      <td>11</td>\n",
       "      <td>4</td>\n",
       "      <td>20</td>\n",
       "      <td>10</td>\n",
       "      <td>3</td>\n",
       "      <td>5</td>\n",
       "      <td>2</td>\n",
       "      <td>2</td>\n",
       "      <td>0</td>\n",
       "      <td>4</td>\n",
       "      <td>6</td>\n",
       "      <td>0</td>\n",
       "      <td>0</td>\n",
       "      <td>0</td>\n",
       "      <td>0</td>\n",
       "      <td>0</td>\n",
       "      <td>0</td>\n",
       "      <td>0</td>\n",
       "    </tr>\n",
       "    <tr>\n",
       "      <th>4</th>\n",
       "      <td>1981</td>\n",
       "      <td>PhD</td>\n",
       "      <td>Married</td>\n",
       "      <td>58293.0</td>\n",
       "      <td>1</td>\n",
       "      <td>0</td>\n",
       "      <td>2014-01-19</td>\n",
       "      <td>94</td>\n",
       "      <td>173</td>\n",
       "      <td>43</td>\n",
       "      <td>118</td>\n",
       "      <td>46</td>\n",
       "      <td>27</td>\n",
       "      <td>15</td>\n",
       "      <td>5</td>\n",
       "      <td>5</td>\n",
       "      <td>3</td>\n",
       "      <td>6</td>\n",
       "      <td>5</td>\n",
       "      <td>0</td>\n",
       "      <td>0</td>\n",
       "      <td>0</td>\n",
       "      <td>0</td>\n",
       "      <td>0</td>\n",
       "      <td>0</td>\n",
       "      <td>0</td>\n",
       "    </tr>\n",
       "  </tbody>\n",
       "</table>\n",
       "</div>"
      ],
      "text/plain": [
       "   Year_Birth   Education Marital_Status   Income  Kidhome  Teenhome  \\\n",
       "0        1957  Graduation         Single  58138.0        0         0   \n",
       "1        1954  Graduation         Single  46344.0        1         1   \n",
       "2        1965  Graduation       Together  71613.0        0         0   \n",
       "3        1984  Graduation       Together  26646.0        1         0   \n",
       "4        1981         PhD        Married  58293.0        1         0   \n",
       "\n",
       "  Dt_Customer  Recency  MntWines  MntFruits  MntMeatProducts  MntFishProducts  \\\n",
       "0  2012-09-04       58       635         88              546              172   \n",
       "1  2014-03-08       38        11          1                6                2   \n",
       "2  2013-08-21       26       426         49              127              111   \n",
       "3  2014-02-10       26        11          4               20               10   \n",
       "4  2014-01-19       94       173         43              118               46   \n",
       "\n",
       "   MntSweetProducts  MntGoldProds  NumDealsPurchases  NumWebPurchases  \\\n",
       "0                88            88                  3                8   \n",
       "1                 1             6                  2                1   \n",
       "2                21            42                  1                8   \n",
       "3                 3             5                  2                2   \n",
       "4                27            15                  5                5   \n",
       "\n",
       "   NumCatalogPurchases  NumStorePurchases  NumWebVisitsMonth  AcceptedCmp3  \\\n",
       "0                   10                  4                  7             0   \n",
       "1                    1                  2                  5             0   \n",
       "2                    2                 10                  4             0   \n",
       "3                    0                  4                  6             0   \n",
       "4                    3                  6                  5             0   \n",
       "\n",
       "   AcceptedCmp4  AcceptedCmp5  AcceptedCmp1  AcceptedCmp2  Complain  Response  \n",
       "0             0             0             0             0         0         1  \n",
       "1             0             0             0             0         0         0  \n",
       "2             0             0             0             0         0         0  \n",
       "3             0             0             0             0         0         0  \n",
       "4             0             0             0             0         0         0  "
      ]
     },
     "execution_count": 57,
     "metadata": {},
     "output_type": "execute_result"
    }
   ],
   "source": [
    "data = pd.read_parquet(RAW_DATA_CLEANED)\n",
    "data.head()"
   ]
  },
  {
   "cell_type": "markdown",
   "metadata": {},
   "source": [
    "### Education and Marital_Status\n"
   ]
  },
  {
   "cell_type": "code",
   "execution_count": 58,
   "metadata": {},
   "outputs": [
    {
     "data": {
      "text/plain": [
       "Marital_Status\n",
       "Married     785\n",
       "Together    509\n",
       "Single      438\n",
       "Divorced    214\n",
       "Widow        70\n",
       "Alone         3\n",
       "Absurd        2\n",
       "YOLO          2\n",
       "Name: count, dtype: int64"
      ]
     },
     "execution_count": 58,
     "metadata": {},
     "output_type": "execute_result"
    }
   ],
   "source": [
    "## Education and Marital_Status\n",
    "# Education\tMarital_Status with many destinct values\n",
    "# (decision) what will we do with them ?\n",
    "data.Marital_Status.value_counts()\n",
    "# after understandig the situation of every one \n",
    "# merge YOLO, Absurd, Alone in single and let other\n",
    "\n"
   ]
  },
  {
   "cell_type": "code",
   "execution_count": 59,
   "metadata": {},
   "outputs": [
    {
     "data": {
      "text/plain": [
       "Marital_Status\n",
       "Married     785\n",
       "Together    509\n",
       "Single      445\n",
       "Divorced    214\n",
       "Widow        70\n",
       "Name: count, dtype: int64"
      ]
     },
     "execution_count": 59,
     "metadata": {},
     "output_type": "execute_result"
    }
   ],
   "source": [
    "status_map = {\n",
    "    'Alone': 'Single',\n",
    "    'Absurd': 'Single',\n",
    "    'YOLO': 'Single'\n",
    "}\n",
    "\n",
    "data.Marital_Status = data.Marital_Status.replace(status_map)\n",
    "data.Marital_Status.value_counts()"
   ]
  },
  {
   "cell_type": "code",
   "execution_count": 60,
   "metadata": {},
   "outputs": [
    {
     "data": {
      "text/plain": [
       "Education\n",
       "Graduation    1016\n",
       "PhD            440\n",
       "Master         335\n",
       "2n Cycle       183\n",
       "Basic           49\n",
       "Name: count, dtype: int64"
      ]
     },
     "execution_count": 60,
     "metadata": {},
     "output_type": "execute_result"
    }
   ],
   "source": [
    "# education \n",
    "data.Education.value_counts() # i think no action needed"
   ]
  },
  {
   "cell_type": "markdown",
   "metadata": {},
   "source": [
    "## Detecting and handling outliers"
   ]
  },
  {
   "cell_type": "markdown",
   "metadata": {},
   "source": [
    "Strategies:\n",
    " - Demographics features: drop them (in clean part)\n",
    " - other numeric features like MntFruits and Recency:\n",
    "    - transformation.\n",
    "    - the next step depend on the task or the question that we want to answer from the data.\n"
   ]
  },
  {
   "cell_type": "markdown",
   "metadata": {},
   "source": [
    "> IMPORTANT NOTE: the stratege that we will use later is depend on the task or the question we want to answer."
   ]
  },
  {
   "cell_type": "markdown",
   "metadata": {},
   "source": [
    "> NOTE: here, we only care about detecting and try to decrease the impact of outliers. "
   ]
  },
  {
   "cell_type": "markdown",
   "metadata": {},
   "source": [
    "- univarite"
   ]
  },
  {
   "cell_type": "code",
   "execution_count": 61,
   "metadata": {},
   "outputs": [
    {
     "data": {
      "text/plain": [
       "Recency                  0\n",
       "MntWines                32\n",
       "MntFruits              221\n",
       "MntMeatProducts        168\n",
       "MntFishProducts        202\n",
       "MntSweetProducts       219\n",
       "MntGoldProds           184\n",
       "NumDealsPurchases       74\n",
       "NumWebPurchases          3\n",
       "NumCatalogPurchases     19\n",
       "NumStorePurchases        0\n",
       "NumWebVisitsMonth        8\n",
       "dtype: int64"
      ]
     },
     "execution_count": 61,
     "metadata": {},
     "output_type": "execute_result"
    }
   ],
   "source": [
    "# univarite\n",
    "numerical_cols = ['Recency', 'MntWines', 'MntFruits', 'MntMeatProducts', 'MntFishProducts', 'MntSweetProducts', 'MntGoldProds',\n",
    "                  'NumDealsPurchases', 'NumWebPurchases', 'NumCatalogPurchases', 'NumStorePurchases', 'NumWebVisitsMonth']\n",
    "\n",
    "Q1 = data[numerical_cols].quantile(0.25)\n",
    "Q3 = data[numerical_cols].quantile(0.75)\n",
    "IQR = Q3 - Q1\n",
    "\n",
    "# only very extreme values\n",
    "thr = 1.5\n",
    "\n",
    "((data[numerical_cols] < (Q1 - thr * IQR)) | (data[numerical_cols] > (Q3 + thr * IQR))).sum(axis=0)"
   ]
  },
  {
   "cell_type": "code",
   "execution_count": 62,
   "metadata": {},
   "outputs": [
    {
     "data": {
      "text/plain": [
       "1130"
      ]
     },
     "execution_count": 62,
     "metadata": {},
     "output_type": "execute_result"
    }
   ],
   "source": [
    "# in every one\n",
    "((data[numerical_cols] < (Q1 - thr * IQR)) | (data[numerical_cols] > (Q3 + thr * IQR))).sum(axis=0).sum()"
   ]
  },
  {
   "cell_type": "code",
   "execution_count": 63,
   "metadata": {},
   "outputs": [
    {
     "data": {
      "text/plain": [
       "636"
      ]
     },
     "execution_count": 63,
     "metadata": {},
     "output_type": "execute_result"
    }
   ],
   "source": [
    "# if row has more than one true, will be catched only one time.\n",
    "((data[numerical_cols] < (Q1 - thr * IQR)) | (data[numerical_cols] > (Q3 + thr * IQR))).any(axis=1).sum(axis=0)"
   ]
  },
  {
   "cell_type": "markdown",
   "metadata": {},
   "source": [
    "- multivariate\n",
    "    - Isolation Forest and LocalOutlierFactor : need strong domine knowledge with strong info about the process that the data was faced, to determine the contamination.\n",
    "    - DBSCAN : to detect outliers in multivariate (may be just a cluster not an outliers)"
   ]
  },
  {
   "cell_type": "code",
   "execution_count": 64,
   "metadata": {},
   "outputs": [],
   "source": [
    "df = data.copy()"
   ]
  },
  {
   "cell_type": "code",
   "execution_count": 65,
   "metadata": {},
   "outputs": [
    {
     "name": "stdout",
     "output_type": "stream",
     "text": [
      "Number of outliers detected: 338\n",
      "Shape of dataset before removing outliers: (2023, 28)\n",
      "Shape of dataset after removing outliers: (1685, 26)\n",
      " percentage = 0.167%\n"
     ]
    }
   ],
   "source": [
    "# DBSCAN\n",
    "\n",
    "# Prepare the data\n",
    "X = df[numerical_cols]\n",
    "\n",
    "# Standardize the features\n",
    "scaler = MinMaxScaler()\n",
    "X_scaled = scaler.fit_transform(X)\n",
    "\n",
    "\n",
    "# Function to find optimal epsilon\n",
    "def find_epsilon(X, n_neighbors=5):\n",
    "    neigh = NearestNeighbors(n_neighbors=n_neighbors)\n",
    "    nbrs = neigh.fit(X)\n",
    "    distances, indices = nbrs.kneighbors(X)\n",
    "    distances = np.sort(distances, axis=0)\n",
    "    distances = distances[:,1]\n",
    "    return np.percentile(distances, 90)\n",
    "\n",
    "# Find optimal epsilon\n",
    "epsilon = find_epsilon(X_scaled)\n",
    "\n",
    "# Apply DBSCAN\n",
    "dbscan = DBSCAN(eps=epsilon, min_samples=5)\n",
    "cluster_labels = dbscan.fit_predict(X_scaled)\n",
    "\n",
    "# Add the cluster labels to the dataframe\n",
    "df['cluster'] = cluster_labels\n",
    "\n",
    "# Identify outliers (points labeled as -1 are considered noise/outliers)\n",
    "df['is_outlier'] = (cluster_labels == -1).astype(int)\n",
    "\n",
    "# Separate inliers and outliers\n",
    "df_inliers = df[df['is_outlier'] == 0].drop(['cluster', 'is_outlier'], axis=1)\n",
    "df_outliers = df[df['is_outlier'] == 1].drop(['cluster', 'is_outlier'], axis=1)\n",
    "\n",
    "print(f\"Number of outliers detected: {len(df_outliers)}\")\n",
    "print(f\"Shape of dataset before removing outliers: {df.shape}\")\n",
    "print(f\"Shape of dataset after removing outliers: {df_inliers.shape}\")\n",
    "print(f\" percentage = {format((df_outliers.shape[0] / df.shape[0]),'.3f')}%\")"
   ]
  },
  {
   "cell_type": "markdown",
   "metadata": {},
   "source": [
    "### distributions transformations (normalization)."
   ]
  },
  {
   "cell_type": "code",
   "execution_count": 66,
   "metadata": {},
   "outputs": [],
   "source": [
    "# Define the transformations \n",
    "log_transformer = FunctionTransformer(np.log1p, validate=True)\n",
    "robust_scaler = RobustScaler()\n",
    "zscore_scaler = StandardScaler()\n",
    "minMax = MinMaxScaler()"
   ]
  },
  {
   "cell_type": "code",
   "execution_count": 67,
   "metadata": {},
   "outputs": [],
   "source": [
    "# Define the features for each transformation\n",
    "log_features = ['MntWines', 'MntFruits', 'MntMeatProducts', 'MntFishProducts',\n",
    "                'MntSweetProducts', 'MntGoldProds','NumDealsPurchases', 'NumWebPurchases',\n",
    "                'NumCatalogPurchases', 'NumStorePurchases', 'NumWebVisitsMonth']\n",
    "\n",
    "# ['AcceptedCmp1', 'AcceptedCmp2', 'AcceptedCmp3', 'AcceptedCmp4', 'AcceptedCmp5'] is a category features"
   ]
  },
  {
   "cell_type": "code",
   "execution_count": 68,
   "metadata": {},
   "outputs": [
    {
     "data": {
      "text/html": [
       "<div>\n",
       "<style scoped>\n",
       "    .dataframe tbody tr th:only-of-type {\n",
       "        vertical-align: middle;\n",
       "    }\n",
       "\n",
       "    .dataframe tbody tr th {\n",
       "        vertical-align: top;\n",
       "    }\n",
       "\n",
       "    .dataframe thead th {\n",
       "        text-align: right;\n",
       "    }\n",
       "</style>\n",
       "<table border=\"1\" class=\"dataframe\">\n",
       "  <thead>\n",
       "    <tr style=\"text-align: right;\">\n",
       "      <th></th>\n",
       "      <th>MntWines</th>\n",
       "      <th>MntFruits</th>\n",
       "      <th>MntMeatProducts</th>\n",
       "      <th>MntFishProducts</th>\n",
       "      <th>MntSweetProducts</th>\n",
       "      <th>MntGoldProds</th>\n",
       "      <th>NumDealsPurchases</th>\n",
       "      <th>NumWebPurchases</th>\n",
       "      <th>NumCatalogPurchases</th>\n",
       "      <th>NumStorePurchases</th>\n",
       "      <th>NumWebVisitsMonth</th>\n",
       "      <th>Year_Birth</th>\n",
       "      <th>Education</th>\n",
       "      <th>Marital_Status</th>\n",
       "      <th>Income</th>\n",
       "      <th>Kidhome</th>\n",
       "      <th>Teenhome</th>\n",
       "      <th>Dt_Customer</th>\n",
       "      <th>Recency</th>\n",
       "      <th>AcceptedCmp3</th>\n",
       "      <th>AcceptedCmp4</th>\n",
       "      <th>AcceptedCmp5</th>\n",
       "      <th>AcceptedCmp1</th>\n",
       "      <th>AcceptedCmp2</th>\n",
       "      <th>Complain</th>\n",
       "      <th>Response</th>\n",
       "    </tr>\n",
       "  </thead>\n",
       "  <tbody>\n",
       "    <tr>\n",
       "      <th>0</th>\n",
       "      <td>6.455199</td>\n",
       "      <td>4.488636</td>\n",
       "      <td>6.304449</td>\n",
       "      <td>5.153292</td>\n",
       "      <td>4.488636</td>\n",
       "      <td>4.488636</td>\n",
       "      <td>1.386294</td>\n",
       "      <td>2.197225</td>\n",
       "      <td>2.397895</td>\n",
       "      <td>1.609438</td>\n",
       "      <td>2.079442</td>\n",
       "      <td>1957</td>\n",
       "      <td>Graduation</td>\n",
       "      <td>Single</td>\n",
       "      <td>58138.0</td>\n",
       "      <td>0</td>\n",
       "      <td>0</td>\n",
       "      <td>2012-09-04</td>\n",
       "      <td>58</td>\n",
       "      <td>0</td>\n",
       "      <td>0</td>\n",
       "      <td>0</td>\n",
       "      <td>0</td>\n",
       "      <td>0</td>\n",
       "      <td>0</td>\n",
       "      <td>1</td>\n",
       "    </tr>\n",
       "    <tr>\n",
       "      <th>1</th>\n",
       "      <td>2.484907</td>\n",
       "      <td>0.693147</td>\n",
       "      <td>1.94591</td>\n",
       "      <td>1.098612</td>\n",
       "      <td>0.693147</td>\n",
       "      <td>1.94591</td>\n",
       "      <td>1.098612</td>\n",
       "      <td>0.693147</td>\n",
       "      <td>0.693147</td>\n",
       "      <td>1.098612</td>\n",
       "      <td>1.791759</td>\n",
       "      <td>1954</td>\n",
       "      <td>Graduation</td>\n",
       "      <td>Single</td>\n",
       "      <td>46344.0</td>\n",
       "      <td>1</td>\n",
       "      <td>1</td>\n",
       "      <td>2014-03-08</td>\n",
       "      <td>38</td>\n",
       "      <td>0</td>\n",
       "      <td>0</td>\n",
       "      <td>0</td>\n",
       "      <td>0</td>\n",
       "      <td>0</td>\n",
       "      <td>0</td>\n",
       "      <td>0</td>\n",
       "    </tr>\n",
       "    <tr>\n",
       "      <th>2</th>\n",
       "      <td>6.056784</td>\n",
       "      <td>3.912023</td>\n",
       "      <td>4.85203</td>\n",
       "      <td>4.718499</td>\n",
       "      <td>3.091042</td>\n",
       "      <td>3.7612</td>\n",
       "      <td>0.693147</td>\n",
       "      <td>2.197225</td>\n",
       "      <td>1.098612</td>\n",
       "      <td>2.397895</td>\n",
       "      <td>1.609438</td>\n",
       "      <td>1965</td>\n",
       "      <td>Graduation</td>\n",
       "      <td>Together</td>\n",
       "      <td>71613.0</td>\n",
       "      <td>0</td>\n",
       "      <td>0</td>\n",
       "      <td>2013-08-21</td>\n",
       "      <td>26</td>\n",
       "      <td>0</td>\n",
       "      <td>0</td>\n",
       "      <td>0</td>\n",
       "      <td>0</td>\n",
       "      <td>0</td>\n",
       "      <td>0</td>\n",
       "      <td>0</td>\n",
       "    </tr>\n",
       "    <tr>\n",
       "      <th>3</th>\n",
       "      <td>2.484907</td>\n",
       "      <td>1.609438</td>\n",
       "      <td>3.044522</td>\n",
       "      <td>2.397895</td>\n",
       "      <td>1.386294</td>\n",
       "      <td>1.791759</td>\n",
       "      <td>1.098612</td>\n",
       "      <td>1.098612</td>\n",
       "      <td>0.0</td>\n",
       "      <td>1.609438</td>\n",
       "      <td>1.94591</td>\n",
       "      <td>1984</td>\n",
       "      <td>Graduation</td>\n",
       "      <td>Together</td>\n",
       "      <td>26646.0</td>\n",
       "      <td>1</td>\n",
       "      <td>0</td>\n",
       "      <td>2014-02-10</td>\n",
       "      <td>26</td>\n",
       "      <td>0</td>\n",
       "      <td>0</td>\n",
       "      <td>0</td>\n",
       "      <td>0</td>\n",
       "      <td>0</td>\n",
       "      <td>0</td>\n",
       "      <td>0</td>\n",
       "    </tr>\n",
       "    <tr>\n",
       "      <th>4</th>\n",
       "      <td>5.159055</td>\n",
       "      <td>3.78419</td>\n",
       "      <td>4.779123</td>\n",
       "      <td>3.850148</td>\n",
       "      <td>3.332205</td>\n",
       "      <td>2.772589</td>\n",
       "      <td>1.791759</td>\n",
       "      <td>1.791759</td>\n",
       "      <td>1.386294</td>\n",
       "      <td>1.94591</td>\n",
       "      <td>1.791759</td>\n",
       "      <td>1981</td>\n",
       "      <td>PhD</td>\n",
       "      <td>Married</td>\n",
       "      <td>58293.0</td>\n",
       "      <td>1</td>\n",
       "      <td>0</td>\n",
       "      <td>2014-01-19</td>\n",
       "      <td>94</td>\n",
       "      <td>0</td>\n",
       "      <td>0</td>\n",
       "      <td>0</td>\n",
       "      <td>0</td>\n",
       "      <td>0</td>\n",
       "      <td>0</td>\n",
       "      <td>0</td>\n",
       "    </tr>\n",
       "  </tbody>\n",
       "</table>\n",
       "</div>"
      ],
      "text/plain": [
       "   MntWines MntFruits MntMeatProducts MntFishProducts MntSweetProducts  \\\n",
       "0  6.455199  4.488636        6.304449        5.153292         4.488636   \n",
       "1  2.484907  0.693147         1.94591        1.098612         0.693147   \n",
       "2  6.056784  3.912023         4.85203        4.718499         3.091042   \n",
       "3  2.484907  1.609438        3.044522        2.397895         1.386294   \n",
       "4  5.159055   3.78419        4.779123        3.850148         3.332205   \n",
       "\n",
       "  MntGoldProds NumDealsPurchases NumWebPurchases NumCatalogPurchases  \\\n",
       "0     4.488636          1.386294        2.197225            2.397895   \n",
       "1      1.94591          1.098612        0.693147            0.693147   \n",
       "2       3.7612          0.693147        2.197225            1.098612   \n",
       "3     1.791759          1.098612        1.098612                 0.0   \n",
       "4     2.772589          1.791759        1.791759            1.386294   \n",
       "\n",
       "  NumStorePurchases NumWebVisitsMonth Year_Birth   Education Marital_Status  \\\n",
       "0          1.609438          2.079442       1957  Graduation         Single   \n",
       "1          1.098612          1.791759       1954  Graduation         Single   \n",
       "2          2.397895          1.609438       1965  Graduation       Together   \n",
       "3          1.609438           1.94591       1984  Graduation       Together   \n",
       "4           1.94591          1.791759       1981         PhD        Married   \n",
       "\n",
       "    Income Kidhome Teenhome Dt_Customer Recency AcceptedCmp3 AcceptedCmp4  \\\n",
       "0  58138.0       0        0  2012-09-04      58            0            0   \n",
       "1  46344.0       1        1  2014-03-08      38            0            0   \n",
       "2  71613.0       0        0  2013-08-21      26            0            0   \n",
       "3  26646.0       1        0  2014-02-10      26            0            0   \n",
       "4  58293.0       1        0  2014-01-19      94            0            0   \n",
       "\n",
       "  AcceptedCmp5 AcceptedCmp1 AcceptedCmp2 Complain Response  \n",
       "0            0            0            0        0        1  \n",
       "1            0            0            0        0        0  \n",
       "2            0            0            0        0        0  \n",
       "3            0            0            0        0        0  \n",
       "4            0            0            0        0        0  "
      ]
     },
     "execution_count": 68,
     "metadata": {},
     "output_type": "execute_result"
    }
   ],
   "source": [
    "# Create a ColumnTransformer to apply the transformations\n",
    "# Combine log transformation and scaling in one ColumnTransformer\n",
    "combined_transformer = ColumnTransformer(\n",
    "    transformers=[\n",
    "        ('log_and_scale', Pipeline([\n",
    "            ('log', log_transformer),\n",
    " #           ('scaler', zscore_scaler)\n",
    "        ]), log_features),\n",
    "    ],\n",
    "    remainder='passthrough'  # Leave other columns unchanged\n",
    ")\n",
    "\n",
    "# Apply the combined transformation to the dataset\n",
    "data_transformed = combined_transformer.fit_transform(data)\n",
    "\n",
    "# Convert the result back to a DataFrame for better readability\n",
    "transformed_columns = log_features  \n",
    "remaining_columns = [col for col in data.columns if col not in transformed_columns]\n",
    "all_columns = transformed_columns + remaining_columns\n",
    "\n",
    "data_transformed_df = pd.DataFrame(data_transformed, columns=all_columns)\n",
    "\n",
    "# Display the first few rows of the transformed data\n",
    "data_transformed_df.head()\n"
   ]
  },
  {
   "cell_type": "code",
   "execution_count": 69,
   "metadata": {},
   "outputs": [
    {
     "data": {
      "text/plain": [
       "MntWines                      float64\n",
       "MntFruits                     float64\n",
       "MntMeatProducts               float64\n",
       "MntFishProducts               float64\n",
       "MntSweetProducts              float64\n",
       "MntGoldProds                  float64\n",
       "NumDealsPurchases             float64\n",
       "NumWebPurchases               float64\n",
       "NumCatalogPurchases           float64\n",
       "NumStorePurchases             float64\n",
       "NumWebVisitsMonth             float64\n",
       "Year_Birth                      int64\n",
       "Education                      object\n",
       "Marital_Status                 object\n",
       "Income                        float64\n",
       "Kidhome                         int64\n",
       "Teenhome                        int64\n",
       "Dt_Customer            datetime64[ns]\n",
       "Recency                         int64\n",
       "AcceptedCmp3                    int64\n",
       "AcceptedCmp4                    int64\n",
       "AcceptedCmp5                    int64\n",
       "AcceptedCmp1                    int64\n",
       "AcceptedCmp2                    int64\n",
       "Complain                        int64\n",
       "Response                        int64\n",
       "dtype: object"
      ]
     },
     "execution_count": 69,
     "metadata": {},
     "output_type": "execute_result"
    }
   ],
   "source": [
    "# convert types\n",
    "for col in remaining_columns:\n",
    "    data_transformed_df[col] = data_transformed_df[col].astype(data[col].dtype)\n",
    "\n",
    "for col in transformed_columns:\n",
    "    data_transformed_df[col] = data_transformed_df[col].astype(float)\n",
    "\n",
    "data_transformed_df.dtypes"
   ]
  },
  {
   "cell_type": "code",
   "execution_count": 70,
   "metadata": {},
   "outputs": [
    {
     "data": {
      "text/plain": [
       "361"
      ]
     },
     "execution_count": 70,
     "metadata": {},
     "output_type": "execute_result"
    }
   ],
   "source": [
    "# we want to have the zeros and their impact.\n",
    "(data_transformed_df['MntFruits'] == 0.0 ).sum()"
   ]
  },
  {
   "cell_type": "code",
   "execution_count": 71,
   "metadata": {},
   "outputs": [
    {
     "data": {
      "image/png": "[encoded data removed]",
      "text/plain": [
       "<Figure size 2000x1500 with 12 Axes>"
      ]
     },
     "metadata": {},
     "output_type": "display_data"
    }
   ],
   "source": [
    "data_transformed_df[transformed_columns].hist(bins=50, figsize=(20, 15))\n",
    "plt.show()"
   ]
  },
  {
   "cell_type": "code",
   "execution_count": 72,
   "metadata": {},
   "outputs": [],
   "source": [
    "# copy the data\n",
    "\n",
    "df = data_transformed_df.copy()"
   ]
  },
  {
   "cell_type": "code",
   "execution_count": 73,
   "metadata": {},
   "outputs": [
    {
     "data": {
      "text/plain": [
       "Recency                 0\n",
       "MntWines                0\n",
       "MntFruits               0\n",
       "MntMeatProducts         0\n",
       "MntFishProducts         0\n",
       "MntSweetProducts        0\n",
       "MntGoldProds            0\n",
       "NumDealsPurchases      15\n",
       "NumWebPurchases         2\n",
       "NumCatalogPurchases     0\n",
       "NumStorePurchases      10\n",
       "NumWebVisitsMonth       6\n",
       "dtype: int64"
      ]
     },
     "execution_count": 73,
     "metadata": {},
     "output_type": "execute_result"
    }
   ],
   "source": [
    "# univarite\n",
    "numerical_cols = ['Recency', 'MntWines', 'MntFruits', 'MntMeatProducts', 'MntFishProducts', 'MntSweetProducts', 'MntGoldProds',\n",
    "                  'NumDealsPurchases', 'NumWebPurchases', 'NumCatalogPurchases', 'NumStorePurchases', 'NumWebVisitsMonth']\n",
    "\n",
    "Q1 = df[numerical_cols].quantile(0.25)\n",
    "Q3 = df[numerical_cols].quantile(0.75)\n",
    "IQR = Q3 - Q1\n",
    "\n",
    "# only very extreme values\n",
    "thr = 1.5\n",
    "\n",
    "((df[numerical_cols] < (Q1 - thr * IQR)) | (df[numerical_cols] > (Q3 + thr * IQR))).sum(axis=0)"
   ]
  },
  {
   "cell_type": "code",
   "execution_count": 74,
   "metadata": {},
   "outputs": [
    {
     "name": "stdout",
     "output_type": "stream",
     "text": [
      "Number of outliers detected: 325\n",
      "Shape of dataset before removing outliers: (2023, 28)\n",
      "Shape of dataset after removing outliers: (1698, 26)\n",
      " percentage = 0.161%\n"
     ]
    }
   ],
   "source": [
    "# DBSCAN\n",
    "\n",
    "\n",
    "# Prepare the data\n",
    "X = df[numerical_cols]\n",
    "\n",
    "# Standardize the features\n",
    "scaler = MinMaxScaler()\n",
    "X_scaled = scaler.fit_transform(X)\n",
    "\n",
    "\n",
    "# Function to find optimal epsilon\n",
    "def find_epsilon(X, n_neighbors=5):\n",
    "    neigh = NearestNeighbors(n_neighbors=n_neighbors)\n",
    "    nbrs = neigh.fit(X)\n",
    "    distances, indices = nbrs.kneighbors(X)\n",
    "    distances = np.sort(distances, axis=0)\n",
    "    distances = distances[:,1]\n",
    "    return np.percentile(distances, 90)\n",
    "\n",
    "# Find optimal epsilon\n",
    "epsilon = find_epsilon(X_scaled)\n",
    "\n",
    "# Apply DBSCAN\n",
    "dbscan = DBSCAN(eps=epsilon, min_samples=5)\n",
    "cluster_labels = dbscan.fit_predict(X_scaled)\n",
    "\n",
    "# Add the cluster labels to the dataframe\n",
    "df['cluster'] = cluster_labels\n",
    "\n",
    "# Identify outliers (points labeled as -1 are considered noise/outliers)\n",
    "df['is_outlier'] = (cluster_labels == -1).astype(int)\n",
    "\n",
    "# Separate inliers and outliers\n",
    "df_inliers = df[df['is_outlier'] == 0].drop(['cluster', 'is_outlier'], axis=1)\n",
    "df_outliers = df[df['is_outlier'] == 1].drop(['cluster', 'is_outlier'], axis=1)\n",
    "\n",
    "print(f\"Number of outliers detected: {len(df_outliers)}\")\n",
    "print(f\"Shape of dataset before removing outliers: {df.shape}\")\n",
    "print(f\"Shape of dataset after removing outliers: {df_inliers.shape}\")\n",
    "print(f\" percentage = {format((df_outliers.shape[0] / df.shape[0]),'.3f')}%\")"
   ]
  },
  {
   "cell_type": "markdown",
   "metadata": {},
   "source": [
    "### add features"
   ]
  },
  {
   "cell_type": "code",
   "execution_count": 75,
   "metadata": {},
   "outputs": [],
   "source": [
    "# add more features\n",
    "# every group of features is important, depend on the situation and the task\n",
    "\n",
    "df = data_transformed_df\n",
    "\n",
    "# Calculating age\n",
    "df['Age'] = max(df.Dt_Customer).year - df['Year_Birth']\n",
    "df.drop(['Year_Birth'],axis=1,inplace=True)\n",
    "\n",
    "df['Customer_Tenure'] = ((max(df.Dt_Customer) - df['Dt_Customer']).dt.days) + 1 # to avoid zeros.\n",
    "df.drop(['Dt_Customer'],axis=1,inplace=True) # drop date, for now i will not use it further.\n",
    "\n",
    "\n",
    "# Calculating total amount spent\n",
    "product_cols = ['MntWines', 'MntFruits', 'MntMeatProducts', 'MntFishProducts', 'MntSweetProducts', 'MntGoldProds']\n",
    "df['total_Spent'] = df[product_cols].sum(axis=1)\n",
    "\n",
    "# Calculate total Purchases\n",
    "purchases = ['NumWebPurchases', 'NumCatalogPurchases', 'NumStorePurchases']\n",
    "df['total_purchases'] = df[purchases].sum(axis=1)\n",
    "\n",
    "\n",
    "# Combining children columns\n",
    "df['Children'] = df['Kidhome'] + df['Teenhome']\n",
    "df.drop(['Kidhome','Teenhome'],axis=1,inplace=True)\n",
    "\n",
    "\n",
    "\n",
    "# Calculating income per person\n",
    "df['Income_per_Person'] = df['Income'] / (2 + df['Children'])\n",
    "\n",
    "# Counting campaign participation\n",
    "campaign_cols = ['AcceptedCmp1', 'AcceptedCmp2', 'AcceptedCmp3', 'AcceptedCmp4', 'AcceptedCmp5','Response']\n",
    "df['Campaign_Participation'] = df[campaign_cols].sum(axis=1)\n",
    "\n",
    "# Categorizing recency\n",
    "df['Recency_Category'] = pd.cut(df['Recency'], bins=[0, 30, 60, 90, df['Recency'].max()], labels=['Very Recent', 'Recent', 'Not Recent', 'Long Time'])\n",
    "\n",
    "# total spent on the time\n",
    "df['total_spent_per_time'] = df['total_Spent'] / df['Customer_Tenure']\n",
    "\n",
    "# total purchases on the time\n",
    "df['total_purchases_per_time'] = df['total_purchases'] / df['Customer_Tenure']\n",
    "\n"
   ]
  },
  {
   "cell_type": "code",
   "execution_count": 76,
   "metadata": {},
   "outputs": [
    {
     "data": {
      "text/plain": [
       "Campaign_Participation\n",
       "0    1459\n",
       "1     345\n",
       "2     130\n",
       "3      47\n",
       "4      33\n",
       "5       9\n",
       "Name: count, dtype: int64"
      ]
     },
     "execution_count": 76,
     "metadata": {},
     "output_type": "execute_result"
    }
   ],
   "source": [
    "df['Campaign_Participation'].value_counts()"
   ]
  },
  {
   "cell_type": "code",
   "execution_count": 77,
   "metadata": {},
   "outputs": [
    {
     "data": {
      "text/plain": [
       "Recency_Category\n",
       "Very Recent    631\n",
       "Not Recent     600\n",
       "Recent         593\n",
       "Long Time      173\n",
       "Name: count, dtype: int64"
      ]
     },
     "execution_count": 77,
     "metadata": {},
     "output_type": "execute_result"
    }
   ],
   "source": [
    "df['Recency_Category'].value_counts()"
   ]
  },
  {
   "cell_type": "code",
   "execution_count": 78,
   "metadata": {},
   "outputs": [
    {
     "name": "stdout",
     "output_type": "stream",
     "text": [
      "(2023, 32)\n"
     ]
    },
    {
     "data": {
      "text/plain": [
       "Index(['MntWines', 'MntFruits', 'MntMeatProducts', 'MntFishProducts',\n",
       "       'MntSweetProducts', 'MntGoldProds', 'NumDealsPurchases',\n",
       "       'NumWebPurchases', 'NumCatalogPurchases', 'NumStorePurchases',\n",
       "       'NumWebVisitsMonth', 'Education', 'Marital_Status', 'Income', 'Recency',\n",
       "       'AcceptedCmp3', 'AcceptedCmp4', 'AcceptedCmp5', 'AcceptedCmp1',\n",
       "       'AcceptedCmp2', 'Complain', 'Response', 'Age', 'Customer_Tenure',\n",
       "       'total_Spent', 'total_purchases', 'Children', 'Income_per_Person',\n",
       "       'Campaign_Participation', 'Recency_Category', 'total_spent_per_time',\n",
       "       'total_purchases_per_time'],\n",
       "      dtype='object')"
      ]
     },
     "execution_count": 78,
     "metadata": {},
     "output_type": "execute_result"
    }
   ],
   "source": [
    "print(df.shape)\n",
    "df.columns"
   ]
  },
  {
   "cell_type": "code",
   "execution_count": 79,
   "metadata": {},
   "outputs": [],
   "source": [
    "# save the dataframe\n",
    "df.to_parquet(Export_DATA_ENGINEERING, index=False)"
   ]
  }
 ],
 "metadata": {
  "kernelspec": {
   "display_name": "base",
   "language": "python",
   "name": "python3"
  },
  "language_info": {
   "codemirror_mode": {
    "name": "ipython",
    "version": 3
   },
   "file_extension": ".py",
   "mimetype": "text/x-python",
   "name": "python",
   "nbconvert_exporter": "python",
   "pygments_lexer": "ipython3",
   "version": "3.11.3"
  }
 },
 "nbformat": 4,
 "nbformat_minor": 2
}
