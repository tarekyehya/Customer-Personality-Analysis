{
 "cells": [
  {
   "cell_type": "code",
   "execution_count": null,
   "metadata": {},
   "outputs": [],
   "source": []
  },
  {
   "cell_type": "markdown",
   "metadata": {},
   "source": [
    "## Education and Marital_Status"
   ]
  },
  {
   "cell_type": "code",
   "execution_count": null,
   "metadata": {},
   "outputs": [],
   "source": [
    "# Education\tMarital_Status with many destinct values\n",
    "# (decision) what will we do with them ?\n",
    "data.Marital_Status.value_counts()\n",
    "# after understandig the situation of every one \n",
    "# merge YOLO, Absurd, Alone in single and let other"
   ]
  },
  {
   "cell_type": "code",
   "execution_count": null,
   "metadata": {},
   "outputs": [],
   "source": [
    "status_map = {\n",
    "    'Alone': 'Single',\n",
    "    'Absurd': 'Single',\n",
    "    'YOLO': 'Single'\n",
    "}\n",
    "\n",
    "data.Marital_Status = data.Marital_Status.replace(status_map)\n",
    "data.Marital_Status.value_counts()\n"
   ]
  },
  {
   "cell_type": "code",
   "execution_count": null,
   "metadata": {},
   "outputs": [],
   "source": [
    "# education \n",
    "data.Education.value_counts()\n",
    "# let to the feature engineering phase -> to analyze the impact of every change "
   ]
  }
 ],
 "metadata": {
  "language_info": {
   "name": "python"
  }
 },
 "nbformat": 4,
 "nbformat_minor": 2
}
